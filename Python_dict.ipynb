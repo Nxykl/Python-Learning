{
  "nbformat": 4,
  "nbformat_minor": 0,
  "metadata": {
    "colab": {
      "name": "Python_dict.ipynb",
      "provenance": [],
      "authorship_tag": "ABX9TyMCmqBSp1dzRCR65Oy60C0y",
      "include_colab_link": true
    },
    "kernelspec": {
      "name": "python3",
      "display_name": "Python 3"
    },
    "language_info": {
      "name": "python"
    }
  },
  "cells": [
    {
      "cell_type": "markdown",
      "metadata": {
        "id": "view-in-github",
        "colab_type": "text"
      },
      "source": [
        "<a href=\"https://colab.research.google.com/github/Nxykl/Python-Learning/blob/main/Python_dict.ipynb\" target=\"_parent\"><img src=\"https://colab.research.google.com/assets/colab-badge.svg\" alt=\"Open In Colab\"/></a>"
      ]
    },
    {
      "cell_type": "markdown",
      "metadata": {
        "id": "6x4zYhKQowSS"
      },
      "source": [
        "# Python Dictionary"
      ]
    },
    {
      "cell_type": "markdown",
      "metadata": {
        "id": "PWgNyAoPo_hF"
      },
      "source": [
        "Sort dictionary(asc and dec)"
      ]
    },
    {
      "cell_type": "code",
      "metadata": {
        "colab": {
          "base_uri": "https://localhost:8080/"
        },
        "id": "zuoNbGSBncOu",
        "outputId": "f1d9a59f-515c-433e-9335-d8e7c6f84c6c"
      },
      "source": [
        "import operator\n",
        "\n",
        "d = {1:6, 2:5, 7:8, 4:1, 3:0}\n",
        "\n",
        "print(\"Original : \", d)\n",
        "d_asc = sorted(d.items(), key=operator.itemgetter(1)) # sorts based on values and returns list not dict so convert to dict\n",
        "#demo = sorted(d.items()) it sorts based on key not values, other: sorted(d.items(),key=lambda x:x[1])\n",
        "print(\"Asc : \", d_asc)\n",
        "d_desc = sorted(d.items(), key = operator.itemgetter(1), reverse=True) # sort dec based on values\n",
        "print(\"DESC : \", d_desc)"
      ],
      "execution_count": null,
      "outputs": [
        {
          "output_type": "stream",
          "text": [
            "Original :  {1: 6, 2: 5, 7: 8, 4: 1, 3: 0}\n",
            "Asc :  [(3, 0), (4, 1), (2, 5), (1, 6), (7, 8)]\n",
            "DESC :  [(7, 8), (1, 6), (2, 5), (4, 1), (3, 0)]\n"
          ],
          "name": "stdout"
        }
      ]
    },
    {
      "cell_type": "markdown",
      "metadata": {
        "id": "e8nTinseCiLM"
      },
      "source": [
        " Python script to add a key to a dictionary\n",
        " "
      ]
    },
    {
      "cell_type": "code",
      "metadata": {
        "id": "ENLveMyxmrKZ",
        "colab": {
          "base_uri": "https://localhost:8080/"
        },
        "outputId": "59ccb75d-7a3e-43d9-8937-6e841f682d3e"
      },
      "source": [
        "d = {0:10, 1:20}\n",
        "print(d)\n",
        "d.update({2:30})\n",
        "print(d)"
      ],
      "execution_count": null,
      "outputs": [
        {
          "output_type": "stream",
          "text": [
            "{0: 10, 1: 20}\n",
            "{0: 10, 1: 20, 2: 30}\n"
          ],
          "name": "stdout"
        }
      ]
    },
    {
      "cell_type": "markdown",
      "metadata": {
        "id": "hsVVCbsPDYxS"
      },
      "source": [
        "concatenate  dictionaries to create a new one"
      ]
    },
    {
      "cell_type": "code",
      "metadata": {
        "colab": {
          "base_uri": "https://localhost:8080/"
        },
        "id": "oYH_5E76DFbr",
        "outputId": "bc91e530-f5fd-4f50-b764-cd9d0ead1542"
      },
      "source": [
        "dic1={1:10, 2:20}\n",
        "dic2={3:30, 4:40}\n",
        "dic3={5:50,6:60}\n",
        "d = {}\n",
        "for i in (dic1, dic2, dic3):\n",
        "  d.update(i)\n",
        "print(d)"
      ],
      "execution_count": null,
      "outputs": [
        {
          "output_type": "stream",
          "text": [
            "{1: 10, 2: 20, 3: 30, 4: 40, 5: 50, 6: 60}\n"
          ],
          "name": "stdout"
        }
      ]
    },
    {
      "cell_type": "markdown",
      "metadata": {
        "id": "kIGw7ckHFBh8"
      },
      "source": [
        "remove a key from a dictionary"
      ]
    },
    {
      "cell_type": "code",
      "metadata": {
        "colab": {
          "base_uri": "https://localhost:8080/"
        },
        "id": "liYB80R3Drb8",
        "outputId": "ce6922c7-2131-4f5c-bde9-eea3c9b4194b"
      },
      "source": [
        "myDict = {'a':1,'b':2,'c':3,'d':4}\n",
        "print(myDict.keys())\n",
        "myDict.pop('d') # better method\n",
        "if 'a' in myDict: # another method\n",
        "  del myDict['a']\n",
        "print(myDict)"
      ],
      "execution_count": null,
      "outputs": [
        {
          "output_type": "stream",
          "text": [
            "dict_keys(['a', 'b', 'c', 'd'])\n",
            "{'b': 2, 'c': 3}\n"
          ],
          "name": "stdout"
        }
      ]
    },
    {
      "cell_type": "code",
      "metadata": {
        "id": "g_7C-KSJFUBa"
      },
      "source": [
        ""
      ],
      "execution_count": null,
      "outputs": []
    }
  ]
}